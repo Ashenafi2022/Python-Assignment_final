{
 "cells": [
  {
   "cell_type": "markdown",
   "metadata": {},
   "source": [
    "# Python Assignment"
   ]
  },
  {
   "cell_type": "code",
   "execution_count": 1,
   "metadata": {},
   "outputs": [],
   "source": [
    "## Explaratory analysis"
   ]
  },
  {
   "cell_type": "code",
   "execution_count": 2,
   "metadata": {},
   "outputs": [
    {
     "name": "stdout",
     "output_type": "stream",
     "text": [
      "Requirement already satisfied: biopython in c:\\users\\ashen\\anaconda3\\lib\\site-packages (1.78)\n",
      "Requirement already satisfied: numpy in c:\\users\\ashen\\anaconda3\\lib\\site-packages (from biopython) (1.19.2)\n",
      "Note: you may need to restart the kernel to use updated packages.\n"
     ]
    }
   ],
   "source": [
    "pip install biopython"
   ]
  },
  {
   "cell_type": "markdown",
   "metadata": {},
   "source": [
    "## Read the bears_cytb.fasta file to biopython \n",
    "\n",
    "### conduct exporatory analses\n",
    "\n",
    "Print id, description, representative sequence, length of each sequence"
   ]
  },
  {
   "cell_type": "code",
   "execution_count": 125,
   "metadata": {},
   "outputs": [],
   "source": [
    "import Bio\n",
    "from Bio import SeqIO\n",
    "from Bio.SeqRecord import SeqRecord"
   ]
  },
  {
   "cell_type": "code",
   "execution_count": 128,
   "metadata": {},
   "outputs": [
    {
     "data": {
      "text/plain": [
       "9"
      ]
     },
     "execution_count": 128,
     "metadata": {},
     "output_type": "execute_result"
    }
   ],
   "source": [
    "bears_ctyb = SeqIO.parse('bears_cytb.fasta', 'fasta')\n",
    "\n",
    "# Number of sequences\n",
    "count = 0\n",
    "for record in bears_ctyb:\n",
    "    count +=1\n",
    "    \n",
    "count\n"
   ]
  },
  {
   "cell_type": "code",
   "execution_count": 116,
   "metadata": {},
   "outputs": [
    {
     "name": "stdout",
     "output_type": "stream",
     "text": [
      "AF264047.1\n",
      "AF264047.1 Ursus spelaeus cytochrome b gene, complete cds; mitochondrial gene for mitochondrial product\n",
      "Seq('ATGACCAACATCCGAAAAACCCATCCATTAGCTAAAATCATCAACAACTCATTT...AGA')\n",
      "1140\n",
      "AB020907.1\n",
      "AB020907.1 Ursus arctos mitochondrial gene for cytochrome b, complete cds\n",
      "Seq('ATGACCAACATCCGAAAAACCCACCCATTAGCTAAAATCATCAACAACTCACTT...AGA')\n",
      "1140\n",
      "AB360958.1\n",
      "AB360958.1 Ursus thibetanus mitochondrial cytb gene for cytochrome b, complete cds, haplotype: Cb-C1\n",
      "Seq('ATGACCAACATCCGAAAAACCCATCCATTAGCCAAAATCATCAACAACTCACTC...AGA')\n",
      "1140\n",
      "U23562.1\n",
      "U23562.1 Melursus ursinus cytochrome b gene, mitochondrial gene encoding mitochondrial protein, isolate URUR2, complete cds\n",
      "Seq('ATGACCAACATCCGAAAAACCCACCCATTAGCTAAAATCATTAACAACTCACTC...AGA')\n",
      "1140\n",
      "AF268271.1\n",
      "AF268271.1 Ursus americanus specimen-voucher AF21120 cytochrome b gene, complete cds; mitochondrial gene for mitochondrial product\n",
      "Seq('ATGACCAACATCCGAAAAACCCACCCATTAGCTAAAATCATCAACAACTCACTT...AGA')\n",
      "1140\n",
      "U18899.1\n",
      "U18899.1 Helarctos malayanus mitochondrion cytochrome b (cyt b) gene, complete cds\n",
      "Seq('ATGACCAACATCCGAAAAACCCACCCATTAGCTAAAATCATTAACAACTCACTT...AGA')\n",
      "1140\n",
      "U23552.1\n",
      "U23552.1 Ailuropoda melanoleuca cytochrome b gene, mitochondrial gene encoding mitochondrial protein, complete cds\n",
      "Seq('ATGATCAACATCCGAAAAACTCATCCATTAGTTAAAATTATCAACAACTCATTC...AGA')\n",
      "1140\n",
      "U23554.1\n",
      "U23554.1 Tremarctos ornatus cytochrome b gene, mitochondrial gene encoding mitochondrial protein, complete cds\n",
      "Seq('ATGACCAACATCCGAAAAACTCACCCACTAGCTAAAATCATCAACAGCTCATTC...AGA')\n",
      "1140\n",
      "EU567096.1\n",
      "EU567096.1 Ursus maritimus haplotype Umar cytochrome b (cob) gene, complete cds; mitochondrial\n",
      "Seq('ATGACCAACATCCGAAAAACCCACCCATTAGCTAAAATCATCAACAACTCATTT...AGA')\n",
      "1140\n"
     ]
    }
   ],
   "source": [
    "# print id, description, representative sequence and length of each sequence.\n",
    "\n",
    "for bears_ctyb in SeqIO.parse('bears_cytb.fasta', 'fasta'):\n",
    "    print(bears_ctyb.id)  \n",
    "    print(bears_ctyb.description)\n",
    "    print(repr(bears_ctyb.seq)) # representative sequence, not the entire seq\n",
    "    print(len(bears_ctyb))    "
   ]
  },
  {
   "cell_type": "markdown",
   "metadata": {},
   "source": [
    "Further exploratory analysis to see ech sequence separately"
   ]
  },
  {
   "cell_type": "code",
   "execution_count": 117,
   "metadata": {},
   "outputs": [
    {
     "name": "stdout",
     "output_type": "stream",
     "text": [
      "AF264047.1\n",
      "AF264047.1 Ursus spelaeus cytochrome b gene, complete cds; mitochondrial gene for mitochondrial product\n",
      "1140\n",
      "AB020907.1\n",
      "AB020907.1 Ursus arctos mitochondrial gene for cytochrome b, complete cds\n",
      "1140\n"
     ]
    }
   ],
   "source": [
    "bears_cytb = SeqIO.parse(\"bears_cytb.fasta\", \"fasta\")\n",
    "first_record = next(bears_cytb)\n",
    "print(first_record.id)\n",
    "print(first_record.description)\n",
    "print(len(bears_ctyb))\n",
    "\n",
    "second_record = next(bears_cytb)\n",
    "print(second_record.id)\n",
    "print(second_record.description)\n",
    "print(len(bears_ctyb))"
   ]
  },
  {
   "cell_type": "markdown",
   "metadata": {},
   "source": [
    "# GC content in each sequence"
   ]
  },
  {
   "cell_type": "code",
   "execution_count": 249,
   "metadata": {},
   "outputs": [
    {
     "name": "stdout",
     "output_type": "stream",
     "text": [
      "AF264047.1 43.771929824561404\n",
      "AB020907.1 43.771929824561404\n",
      "AB360958.1 45.6140350877193\n",
      "U23562.1 45.175438596491226\n",
      "AF268271.1 43.94736842105263\n",
      "U18899.1 44.29824561403509\n",
      "U23552.1 40.78947368421053\n",
      "U23554.1 44.3859649122807\n",
      "EU567096.1 44.29824561403509\n"
     ]
    }
   ],
   "source": [
    "# Calculat GC percentage\n",
    "\n",
    "from Bio.SeqUtils import GC\n",
    "dna_sequences = {}\n",
    "\n",
    "for bears_cytb in SeqIO.parse('bears_cytb.fasta', 'fasta'):\n",
    "    dna_sequences[bears_cytb.id] = print(bears_cytb.id, GC(bears_cytb.seq))\n",
    "  \n",
    "\n",
    "# GC_content # How to create a dataframe that can be merged with bears.mass?\n"
   ]
  },
  {
   "cell_type": "code",
   "execution_count": 140,
   "metadata": {},
   "outputs": [
    {
     "name": "stdout",
     "output_type": "stream",
     "text": [
      "None\n"
     ]
    },
    {
     "ename": "TypeError",
     "evalue": "write() missing 1 required positional argument: 'format'",
     "output_type": "error",
     "traceback": [
      "\u001b[1;31m---------------------------------------------------------------------------\u001b[0m",
      "\u001b[1;31mTypeError\u001b[0m                                 Traceback (most recent call last)",
      "\u001b[1;32m<ipython-input-140-88f10210b4ff>\u001b[0m in \u001b[0;36m<module>\u001b[1;34m\u001b[0m\n\u001b[0;32m      1\u001b[0m \u001b[0mGC_content\u001b[0m\u001b[1;33m\u001b[0m\u001b[1;33m\u001b[0m\u001b[0m\n\u001b[0;32m      2\u001b[0m \u001b[0mprint\u001b[0m\u001b[1;33m(\u001b[0m\u001b[0mGC_content\u001b[0m\u001b[1;33m)\u001b[0m\u001b[1;33m\u001b[0m\u001b[1;33m\u001b[0m\u001b[0m\n\u001b[1;32m----> 3\u001b[1;33m \u001b[0mSeqIO\u001b[0m\u001b[1;33m.\u001b[0m\u001b[0mwrite\u001b[0m\u001b[1;33m(\u001b[0m\u001b[0mGC_content\u001b[0m\u001b[1;33m,\u001b[0m \u001b[1;34m'txt'\u001b[0m\u001b[1;33m)\u001b[0m\u001b[1;33m\u001b[0m\u001b[1;33m\u001b[0m\u001b[0m\n\u001b[0m",
      "\u001b[1;31mTypeError\u001b[0m: write() missing 1 required positional argument: 'format'"
     ]
    }
   ],
   "source": [
    "GC_content\n",
    "print(GC_content)\n",
    "SeqIO.write(GC_content, 'txt')"
   ]
  },
  {
   "cell_type": "markdown",
   "metadata": {},
   "source": [
    "# Translate each sequence and save in a file"
   ]
  },
  {
   "cell_type": "code",
   "execution_count": 319,
   "metadata": {},
   "outputs": [],
   "source": [
    "# This code works\n",
    "from Bio.SeqRecord import SeqRecord\n",
    "\n",
    "def make_protein_record(nuc_record):\n",
    "    \"\"\"Returns a new SeqRecord with the translated sequence (default table).\"\"\"\n",
    "    return SeqRecord(\n",
    "        seq=nuc_record.seq.translate(cds=True),\n",
    "        id=\"trans_\" + nuc_record.id,\n",
    "        description=\"translation of CDS, using default table\",\n",
    "    )"
   ]
  },
  {
   "cell_type": "code",
   "execution_count": 317,
   "metadata": {},
   "outputs": [
    {
     "name": "stdout",
     "output_type": "stream",
     "text": [
      "AF264047.1\n",
      "AB020907.1\n",
      "AB360958.1\n",
      "U23562.1\n",
      "AF268271.1\n",
      "U18899.1\n",
      "U23552.1\n",
      "U23554.1\n",
      "EU567096.1\n"
     ]
    },
    {
     "data": {
      "text/plain": [
       "1"
      ]
     },
     "execution_count": 317,
     "metadata": {},
     "output_type": "execute_result"
    }
   ],
   "source": [
    "# Translation\n",
    "# This code works, but only save the first seq, does not iterate\n",
    "from Bio.Seq import Seq\n",
    "# from Bio.SeqUtils.ProtParam import ProteinAnalysis\n",
    "\n",
    "for seq_record in SeqIO.parse('bears_cytb.fasta', 'fasta'):\n",
    "    print(seq_record.id)  \n",
    "    Seq_record_protein = seq_record.translate(1) # It only preint the first seq, why?\n",
    "        \n",
    "SeqIO.write(Seq_record_protein, \"translations_cytb.fasta\", \"fasta\")\n",
    "\n",
    "## how to translate and safe in a dataframe?\n",
    "## How to measure the molecular weight of the aa in each sequence?\n"
   ]
  },
  {
   "cell_type": "code",
   "execution_count": 328,
   "metadata": {},
   "outputs": [
    {
     "name": "stdout",
     "output_type": "stream",
     "text": [
      "3\n"
     ]
    }
   ],
   "source": [
    "# Compute molecular weight\n",
    "from Bio.SeqUtils.ProtParam import ProteinAnalysis\n",
    "X = ProteinAnalysis(\"MTNIRKTHPLAKIINNSFIDLPTPSNISAILLVLIPIAGIIENNLLKWR\")\n",
    "print(X.count_amino_acids()['K'])"
   ]
  },
  {
   "cell_type": "code",
   "execution_count": 333,
   "metadata": {},
   "outputs": [
    {
     "ename": "NameError",
     "evalue": "name 'generic_protein' is not defined",
     "output_type": "error",
     "traceback": [
      "\u001b[1;31m---------------------------------------------------------------------------\u001b[0m",
      "\u001b[1;31mNameError\u001b[0m                                 Traceback (most recent call last)",
      "\u001b[1;32m<ipython-input-333-1b442878f590>\u001b[0m in \u001b[0;36m<module>\u001b[1;34m\u001b[0m\n\u001b[1;32m----> 1\u001b[1;33m \u001b[0mseq_records\u001b[0m \u001b[1;33m=\u001b[0m \u001b[0mSeqIO\u001b[0m\u001b[1;33m.\u001b[0m\u001b[0mparse\u001b[0m\u001b[1;33m(\u001b[0m\u001b[1;34m'translations_cytb.fasta'\u001b[0m\u001b[1;33m,\u001b[0m \u001b[1;34m'fasta'\u001b[0m\u001b[1;33m,\u001b[0m \u001b[0mgeneric_protein\u001b[0m\u001b[1;33m)\u001b[0m\u001b[1;33m\u001b[0m\u001b[1;33m\u001b[0m\u001b[0m\n\u001b[0m\u001b[0;32m      2\u001b[0m \u001b[0mseq_record_list\u001b[0m \u001b[1;33m=\u001b[0m \u001b[0mlist\u001b[0m\u001b[1;33m(\u001b[0m\u001b[0mseq_records\u001b[0m\u001b[1;33m)\u001b[0m\u001b[1;33m\u001b[0m\u001b[1;33m\u001b[0m\u001b[0m\n\u001b[0;32m      3\u001b[0m \u001b[1;32mfor\u001b[0m \u001b[0mseq_rec\u001b[0m \u001b[1;32min\u001b[0m \u001b[0mseq_record_list\u001b[0m\u001b[1;33m:\u001b[0m\u001b[1;33m\u001b[0m\u001b[1;33m\u001b[0m\u001b[0m\n\u001b[0;32m      4\u001b[0m     \u001b[0mprint\u001b[0m\u001b[1;33m(\u001b[0m\u001b[1;34mf'{seq_rec.id}'\u001b[0m\u001b[1;33m)\u001b[0m\u001b[1;33m\u001b[0m\u001b[1;33m\u001b[0m\u001b[0m\n\u001b[0;32m      5\u001b[0m \u001b[1;33m\u001b[0m\u001b[0m\n",
      "\u001b[1;31mNameError\u001b[0m: name 'generic_protein' is not defined"
     ]
    }
   ],
   "source": [
    "# Source: https://stackoverflow.com/questions/47942453/python-print-molecular-weight-for-unambiguous-dna-sequences-while-skipping-ambi\n",
    "\n",
    "    seq_records = SeqIO.parse('translations_cytb.fasta', 'fasta', generic_protein)\n",
    "seq_record_list = list(seq_records)\n",
    "for seq_rec in seq_record_list:\n",
    "    print(f'{seq_rec.id}')\n",
    "\n",
    "def calc_mol_weight(sequence):   \n",
    "    mol_weight = 0.0\n",
    "    nucleotide_weights = {'A':331.2218, 'N':322.2085, 'T':307.1971, 'W':347.2212}\n",
    "    for nucl in sequence:\n",
    "        mol_weight += nucleotide_weights[nucl]\n",
    "    return mol_weight"
   ]
  },
  {
   "cell_type": "code",
   "execution_count": 307,
   "metadata": {},
   "outputs": [
    {
     "ename": "SyntaxError",
     "evalue": "'return' outside function (<ipython-input-307-52ea3796b1c8>, line 27)",
     "output_type": "error",
     "traceback": [
      "\u001b[1;36m  File \u001b[1;32m\"<ipython-input-307-52ea3796b1c8>\"\u001b[1;36m, line \u001b[1;32m27\u001b[0m\n\u001b[1;33m    return mol_weight\u001b[0m\n\u001b[1;37m    ^\u001b[0m\n\u001b[1;31mSyntaxError\u001b[0m\u001b[1;31m:\u001b[0m 'return' outside function\n"
     ]
    }
   ],
   "source": [
    "for aa in SeqIO.parse('translations_cytb.fasta', 'fasta'):\n",
    "    mol_weight = 0.0\n",
    "    aa_weights = {\n",
    "        'A' : 71.09,  # alanine\n",
    "        'R' : 156.19, # arginine\n",
    "        'D' : 114.11, # aspartic acid\n",
    "        'N' : 115.09, # asparagine\n",
    "        'C' : 103.15, # cysteine\n",
    "        'E' : 129.12, # glutamic acid\n",
    "        'Q' : 128.14, # glutamine\n",
    "        'G' : 57.05,  # glycine\n",
    "        'H' : 137.14, # histidine\n",
    "        'I' : 113.16, # isoleucine\n",
    "        'L' : 113.16, # leucine\n",
    "        'K' : 128.17, # lysine\n",
    "        'M' : 131.19, # methionine\n",
    "        'F' : 147.18, # phenylalanine\n",
    "        'P' : 97.12,  # proline\n",
    "        'S' : 87.08,  # serine\n",
    "        'T' : 101.11, # threonine\n",
    "        'W' : 186.12, # tryptophan\n",
    "        'Y' : 163.18, # tyrosine\n",
    "        'V' : 99.14   # valine\n",
    "    }\n",
    "    for aa in SeqIO.parse('translations_cytb.fasta', 'fasta'):\n",
    "        mol_weight += aa_weights[aa]        \n",
    "    # return mol_weight    \n",
    "  "
   ]
  },
  {
   "cell_type": "code",
   "execution_count": 309,
   "metadata": {},
   "outputs": [
    {
     "name": "stdout",
     "output_type": "stream",
     "text": [
      "[]\n"
     ]
    }
   ],
   "source": [
    "#Molecular weight of DNA\n",
    "bears_cytb = SeqIO.parse('bears_cytb.fasta', 'fasta')\n",
    "# bears_cytb_list = list(bears_cytb)\n",
    "\n",
    "# for seq_rec in bears_cytb_list:\n",
    " #   print(f'{bears_cytb.id}')\n",
    "\n",
    "mol_weight = []\n",
    "def calc_mol_weight(bears_cytb):   \n",
    "    mol_weight = 0.0\n",
    "    nucleotide_weights = {'A':331.2218, 'T':322.2085, 'C':307.1971, 'G':347.2212}\n",
    "    for nucl in bears_cytb:\n",
    "        mol_weight += nucleotide_weights[nucl]\n",
    "    return mol_weight\n",
    "print(mol_weight)"
   ]
  },
  {
   "cell_type": "markdown",
   "metadata": {},
   "source": [
    "# Molecular weight of amino acids"
   ]
  },
  {
   "cell_type": "code",
   "execution_count": 158,
   "metadata": {},
   "outputs": [],
   "source": [
    "import sys\n",
    "from Bio import SeqIO"
   ]
  },
  {
   "cell_type": "code",
   "execution_count": 159,
   "metadata": {},
   "outputs": [],
   "source": [
    "# a list of the basic molecular weights of the basic amino acids\n",
    "aaweights = {\n",
    "    'A' : 71.09,  # alanine\n",
    "    'R' : 156.19, # arginine\n",
    "    'D' : 114.11, # aspartic acid\n",
    "    'N' : 115.09, # asparagine\n",
    "    'C' : 103.15, # cysteine\n",
    "    'E' : 129.12, # glutamic acid\n",
    "    'Q' : 128.14, # glutamine\n",
    "    'G' : 57.05,  # glycine\n",
    "    'H' : 137.14, # histidine\n",
    "    'I' : 113.16, # isoleucine\n",
    "    'L' : 113.16, # leucine\n",
    "    'K' : 128.17, # lysine\n",
    "    'M' : 131.19, # methionine\n",
    "    'F' : 147.18, # phenylalanine\n",
    "    'P' : 97.12,  # proline\n",
    "    'S' : 87.08,  # serine\n",
    "    'T' : 101.11, # threonine\n",
    "    'W' : 186.12, # tryptophan\n",
    "    'Y' : 163.18, # tyrosine\n",
    "    'V' : 99.14   # valine\n",
    "}"
   ]
  },
  {
   "cell_type": "code",
   "execution_count": 162,
   "metadata": {},
   "outputs": [],
   "source": [
    "# ensure that the command was executed with proper arguments\n",
    "if len(sys.argv) < 2:\n",
    "    print (\"Graham's molecular weight calculator\")\n",
    "    print (\"------------------------------------\")\n",
    "    print (\"Calculates the molecular weight of proteins in a FASTA file\")\n",
    "    print (\"\")\n",
    "    print (\"Usage: gmwcalc.py <files>\")\n",
    "    sys.exit(1)"
   ]
  },
  {
   "cell_type": "code",
   "execution_count": 163,
   "metadata": {},
   "outputs": [
    {
     "name": "stdout",
     "output_type": "stream",
     "text": [
      "TAG WEIGHT (in kDA) NAME SEQUENCE\n"
     ]
    }
   ],
   "source": [
    "# print the header\n",
    "print (\"TAG WEIGHT (in kDA) NAME SEQUENCE\")"
   ]
  },
  {
   "cell_type": "code",
   "execution_count": 262,
   "metadata": {},
   "outputs": [
    {
     "ename": "IndentationError",
     "evalue": "expected an indented block (<ipython-input-262-b5c3031868f9>, line 9)",
     "output_type": "error",
     "traceback": [
      "\u001b[1;36m  File \u001b[1;32m\"<ipython-input-262-b5c3031868f9>\"\u001b[1;36m, line \u001b[1;32m9\u001b[0m\n\u001b[1;33m    weight = 0\u001b[0m\n\u001b[1;37m    ^\u001b[0m\n\u001b[1;31mIndentationError\u001b[0m\u001b[1;31m:\u001b[0m expected an indented block\n"
     ]
    }
   ],
   "source": [
    "for translations_cytb in sys.argv[1:]:\n",
    "    FILE_HANDLE = open(translations_cytb)\n",
    "    # open the current FASTA file\n",
    "    fasta_sequences = SeqIO.parse(translations_cytb,'fasta')\n",
    "\n",
    "    # iterate through the sequences in the current fasta file\n",
    "    for fasta in fasta_sequences:\n",
    "    # reset the weight counter for the current sequence\n",
    "    weight = 0\n",
    "\n",
    "    # obtain the name from the current sequence\n",
    "    name, sequence = fasta.description, fasta.seq.tostring().upper()\n",
    "    tag = name\n",
    "\n",
    "    # here is where you can also do any modifications to the name field\n",
    "    # such as extracting the locus tags from an IMG/ER FASTA file\n",
    "    # I have done just this below (because at the time of this writing\n",
    "    # I am using IMG/ER FASTA files); however, I have commented out the\n",
    "    # code because not everyone using this will be using IMG/ER\n",
    "\n",
    "\n",
    "    # loop through every amino acid in the protein sequence\n",
    "    # and calculate the molecular weight\n",
    "    for aa in sequence:\n",
    "        if aa in aaweights:\n",
    "            weight += aaweights[aa]\n",
    "\n",
    "        # print the molecular weight value\n",
    "        print tag + \"\t\" + str(round((weight / 1000), 2)) + \"\t\" + name + \"\t\" + sequence\n",
    "        # uncomment the following line and comment the above line,\n",
    "        # if you want the molecular weights in Da instead of kDa:\n",
    "        # print tag + \"\t\" + str(round(weight, 2)) + \"\t\" + name + \"\t\" + sequence\n",
    "    \n",
    "    # close the current FASTA file\n",
    "    FILE_HANDLE.close()"
   ]
  },
  {
   "cell_type": "markdown",
   "metadata": {},
   "source": [
    "# Import bears_mass file"
   ]
  },
  {
   "cell_type": "code",
   "execution_count": 146,
   "metadata": {},
   "outputs": [
    {
     "ename": "NameError",
     "evalue": "name 'pwd' is not defined",
     "output_type": "error",
     "traceback": [
      "\u001b[1;31m---------------------------------------------------------------------------\u001b[0m",
      "\u001b[1;31mNameError\u001b[0m                                 Traceback (most recent call last)",
      "\u001b[1;32m<ipython-input-146-f864a054f281>\u001b[0m in \u001b[0;36m<module>\u001b[1;34m\u001b[0m\n\u001b[0;32m      1\u001b[0m \u001b[1;32mimport\u001b[0m \u001b[0mpandas\u001b[0m \u001b[1;32mas\u001b[0m \u001b[0mpd\u001b[0m\u001b[1;33m\u001b[0m\u001b[1;33m\u001b[0m\u001b[0m\n\u001b[1;32m----> 2\u001b[1;33m \u001b[0mpwd\u001b[0m\u001b[1;33m(\u001b[0m\u001b[1;33m)\u001b[0m\u001b[1;33m\u001b[0m\u001b[1;33m\u001b[0m\u001b[0m\n\u001b[0m",
      "\u001b[1;31mNameError\u001b[0m: name 'pwd' is not defined"
     ]
    }
   ],
   "source": [
    "import pandas as pd\n"
   ]
  },
  {
   "cell_type": "code",
   "execution_count": 149,
   "metadata": {},
   "outputs": [
    {
     "name": "stdout",
     "output_type": "stream",
     "text": [
      "                  species     mass\n",
      "0          Ursus spelaeus  550.800\n",
      "1            Ursus arctos  203.500\n",
      "2        Ursus thibetanus   99.714\n",
      "3        Melursus ursinus  100.030\n",
      "4        Ursus americanus  110.560\n",
      "5     Helarctos malayanus   47.020\n",
      "6  Ailuropoda melanoleuca  118.200\n",
      "7      Tremarctos ornatus  140.700\n",
      "8         Ursus maritimus  425.100\n"
     ]
    }
   ],
   "source": [
    "bears_mass = pd.read_csv(\"bears_mass.csv\")\n",
    "print(bears_mass)"
   ]
  },
  {
   "cell_type": "code",
   "execution_count": 150,
   "metadata": {},
   "outputs": [
    {
     "data": {
      "text/plain": [
       "<AxesSubplot:title={'center':'Mass of species'}>"
      ]
     },
     "execution_count": 150,
     "metadata": {},
     "output_type": "execute_result"
    },
    {
     "data": {
      "image/png": "[encoded data removed]",
      "text/plain": [
       "<Figure size 432x288 with 1 Axes>"
      ]
     },
     "metadata": {
      "needs_background": "light"
     },
     "output_type": "display_data"
    }
   ],
   "source": [
    "# Plot the mass of the species\n",
    "%matplotlib inline\n",
    "bears_mass.plot(kind='bar', title=\"Mass of species\")"
   ]
  },
  {
   "cell_type": "markdown",
   "metadata": {},
   "source": [
    "## seqence_translate"
   ]
  },
  {
   "cell_type": "code",
   "execution_count": 157,
   "metadata": {},
   "outputs": [
    {
     "ename": "FileNotFoundError",
     "evalue": "[Errno 2] No such file or directory: 'sequence_translate.py'",
     "output_type": "error",
     "traceback": [
      "\u001b[1;31m---------------------------------------------------------------------------\u001b[0m",
      "\u001b[1;31mFileNotFoundError\u001b[0m                         Traceback (most recent call last)",
      "\u001b[1;32m<ipython-input-157-3c00bc1b8be4>\u001b[0m in \u001b[0;36m<module>\u001b[1;34m\u001b[0m\n\u001b[1;32m----> 1\u001b[1;33m \u001b[0msequence_translate\u001b[0m \u001b[1;33m=\u001b[0m \u001b[0mopen\u001b[0m\u001b[1;33m(\u001b[0m\u001b[1;34m\"sequence_translate.py\"\u001b[0m\u001b[1;33m)\u001b[0m\u001b[1;33m\u001b[0m\u001b[1;33m\u001b[0m\u001b[0m\n\u001b[0m\u001b[0;32m      2\u001b[0m \u001b[0mprint\u001b[0m\u001b[1;33m(\u001b[0m\u001b[0msequence_translate\u001b[0m\u001b[1;33m)\u001b[0m\u001b[1;33m\u001b[0m\u001b[1;33m\u001b[0m\u001b[0m\n",
      "\u001b[1;31mFileNotFoundError\u001b[0m: [Errno 2] No such file or directory: 'sequence_translate.py'"
     ]
    }
   ],
   "source": [
    "sequence_translate = open(\"sequence_translate.py\")\n",
    "print(sequence_translate)"
   ]
  },
  {
   "cell_type": "code",
   "execution_count": null,
   "metadata": {},
   "outputs": [],
   "source": []
  }
 ],
 "metadata": {
  "kernelspec": {
   "display_name": "Python 3",
   "language": "python",
   "name": "python3"
  },
  "language_info": {
   "codemirror_mode": {
    "name": "ipython",
    "version": 3
   },
   "file_extension": ".py",
   "mimetype": "text/x-python",
   "name": "python",
   "nbconvert_exporter": "python",
   "pygments_lexer": "ipython3",
   "version": "3.8.5"
  }
 },
 "nbformat": 4,
 "nbformat_minor": 4
}
